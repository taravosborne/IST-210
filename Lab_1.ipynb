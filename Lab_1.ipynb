{
  "nbformat": 4,
  "nbformat_minor": 0,
  "metadata": {
    "colab": {
      "name": "Lab 1.ipynb",
      "provenance": [],
      "toc_visible": true
    },
    "kernelspec": {
      "name": "python3",
      "display_name": "Python 3"
    }
  },
  "cells": [
    {
      "cell_type": "code",
      "metadata": {
        "id": "qGol1ouX0-nW",
        "colab_type": "code",
        "colab": {}
      },
      "source": [
        ""
      ],
      "execution_count": null,
      "outputs": []
    },
    {
      "cell_type": "markdown",
      "metadata": {
        "id": "3FXfl5Hr1RFS",
        "colab_type": "text"
      },
      "source": [
        "# Do you like Jupyter Notebooks?"
      ]
    },
    {
      "cell_type": "markdown",
      "metadata": {
        "id": "gGbGgrWY1Xcx",
        "colab_type": "text"
      },
      "source": [
        "## Yes I do like Jupyter notebooks. While they may seem confusing at first, they are easy to learn and fun to use"
      ]
    },
    {
      "cell_type": "markdown",
      "metadata": {
        "id": "0pjiBEiM1wHV",
        "colab_type": "text"
      },
      "source": [
        "# What do you want to learn more about Jupyter Notebooks?"
      ]
    },
    {
      "cell_type": "markdown",
      "metadata": {
        "id": "C5_lCrLv17TB",
        "colab_type": "text"
      },
      "source": [
        "## I want to learn more about the tools that it offers. The extensive Jupyter Notebook library seems like it can do many different tasks that all in one place."
      ]
    },
    {
      "cell_type": "markdown",
      "metadata": {
        "id": "5bGOdMBZ3xcT",
        "colab_type": "text"
      },
      "source": [
        "![Image](https://raw.githubusercontent.com/taravosborne/IST-210/master/Images/IMG_4910%202.JPG)"
      ]
    }
  ]
}