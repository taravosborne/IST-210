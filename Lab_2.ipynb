{
  "nbformat": 4,
  "nbformat_minor": 0,
  "metadata": {
    "colab": {
      "name": "Lab 2.ipynb",
      "provenance": [],
      "authorship_tag": "ABX9TyMex9pWGjATHTDqkmjAbYSg",
      "include_colab_link": true
    },
    "kernelspec": {
      "name": "python3",
      "display_name": "Python 3"
    }
  },
  "cells": [
    {
      "cell_type": "markdown",
      "metadata": {
        "id": "view-in-github",
        "colab_type": "text"
      },
      "source": [
        "<a href=\"https://colab.research.google.com/github/taravosborne/IST-210/blob/master/Lab_2.ipynb\" target=\"_parent\"><img src=\"https://colab.research.google.com/assets/colab-badge.svg\" alt=\"Open In Colab\"/></a>"
      ]
    },
    {
      "cell_type": "markdown",
      "metadata": {
        "id": "cF5BKcCnRjsb"
      },
      "source": [
        ""
      ]
    },
    {
      "cell_type": "code",
      "metadata": {
        "id": "1vguKamdOsY-"
      },
      "source": [
        ""
      ],
      "execution_count": null,
      "outputs": []
    },
    {
      "cell_type": "markdown",
      "metadata": {
        "id": "KB_WyiV4OwVe"
      },
      "source": [
        "This diagram represents a possible database for a pet shop. Each pet has a unique animal ID that is referenced to when making an adoption. Each adoption may contain one to three pets (possibly more but realistically a small amount). Each pet is adopted one and only one time. The customer may have a loyalty program ID that is associated to only them and this is applied to a food purchase as well. In a food purchase, the customer may purchase one to three different items (possibly more but realistically around three). However, food is only bought once and may not be purchased at all. Each food has 1-10 animals that may consume it and an animal may eat up to three different foods depending on their diet. Each pet is kept in one and only one enclosure at a time and an enclosure may contain no pets to possibly up to ten. \n",
        "\n",
        "![image](https://raw.githubusercontent.com/taravosborne/IST-210/master/Images/Pet%20Shop.png)"
      ]
    }
  ]
}